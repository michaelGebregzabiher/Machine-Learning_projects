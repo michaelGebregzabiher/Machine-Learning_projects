{
 "cells": [
  {
   "cell_type": "code",
   "execution_count": null,
   "id": "45881d2d-4c99-4d21-85a7-0035981b75ed",
   "metadata": {},
   "outputs": [],
   "source": [
    "http://localhost:8888/tree?token=3c5ae88b03c8888026214eef1c1e2f73ffb8ebba166dc0c9http://localhost:8888/tree?token=3c5ae88b03c8888026214eef1c1e2f73ffb8ebba166dc0c9\n"
   ]
  }
 ],
 "metadata": {
  "kernelspec": {
   "display_name": "Python 3 (ipykernel)",
   "language": "python",
   "name": "python3"
  },
  "language_info": {
   "codemirror_mode": {
    "name": "ipython",
    "version": 3
   },
   "file_extension": ".py",
   "mimetype": "text/x-python",
   "name": "python",
   "nbconvert_exporter": "python",
   "pygments_lexer": "ipython3",
   "version": "3.12.1"
  }
 },
 "nbformat": 4,
 "nbformat_minor": 5
}
